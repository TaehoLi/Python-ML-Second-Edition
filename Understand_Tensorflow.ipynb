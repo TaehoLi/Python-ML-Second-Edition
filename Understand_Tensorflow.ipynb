{
 "cells": [
  {
   "cell_type": "markdown",
   "metadata": {},
   "source": [
    "# 14장. 텐서플로의 구조 자세히 알아보기"
   ]
  },
  {
   "cell_type": "markdown",
   "metadata": {},
   "source": [
    "**아래 링크를 통해 이 노트북을 주피터 노트북 뷰어(nbviewer.jupyter.org)로 보거나 구글 코랩(colab.research.google.com)에서 실행할 수 있습니다.**\n",
    "\n",
    "<table class=\"tfo-notebook-buttons\" align=\"left\">\n",
    "  <td>\n",
    "    <a target=\"_blank\" href=\"https://nbviewer.jupyter.org/github/rickiepark/python-machine-learning-book-2nd-edition/blob/master/code/ch14/ch14.ipynb\"><img src=\"https://jupyter.org/assets/main-logo.svg\" width=\"28\" />주피터 노트북 뷰어로 보기</a>\n",
    "  </td>\n",
    "  <td>\n",
    "    <a target=\"_blank\" href=\"https://colab.research.google.com/github/rickiepark/python-machine-learning-book-2nd-edition/blob/master/code/ch14/ch14.ipynb\"><img src=\"https://www.tensorflow.org/images/colab_logo_32px.png\" />구글 코랩(Colab)에서 실행하기</a>\n",
    "  </td>\n",
    "</table>"
   ]
  },
  {
   "cell_type": "markdown",
   "metadata": {},
   "source": [
    "`watermark`는 주피터 노트북에 사용하는 파이썬 패키지를 출력하기 위한 유틸리티입니다. `watermark` 패키지를 설치하려면 다음 셀의 주석을 제거한 뒤 실행하세요."
   ]
  },
  {
   "cell_type": "code",
   "execution_count": 1,
   "metadata": {},
   "outputs": [],
   "source": [
    "#!pip install watermark"
   ]
  },
  {
   "cell_type": "code",
   "execution_count": 2,
   "metadata": {
    "scrolled": false
   },
   "outputs": [
    {
     "name": "stdout",
     "output_type": "stream",
     "text": [
      "last updated: 2019-06-06 \n",
      "\n",
      "CPython 3.7.3\n",
      "IPython 7.5.0\n",
      "\n",
      "numpy 1.16.4\n",
      "tensorflow 2.0.0-alpha0\n",
      "matplotlib 3.1.0\n"
     ]
    }
   ],
   "source": [
    "%load_ext watermark\n",
    "%watermark -u -d -v -p numpy,tensorflow,matplotlib"
   ]
  },
  {
   "cell_type": "markdown",
   "metadata": {},
   "source": [
    "**이 노트북을 실행하려면 텐서플로 2.0.0-alpha0 버전 이상이 필요합니다. 이전 버전의 텐서플로가 설치되어 있다면 다음 셀의 주석을 제거한 뒤 실행하세요.**"
   ]
  },
  {
   "cell_type": "code",
   "execution_count": 3,
   "metadata": {},
   "outputs": [],
   "source": [
    "#!pip install tensorflow==2.0.0-alpha0"
   ]
  },
  {
   "cell_type": "markdown",
   "metadata": {},
   "source": [
    "**코랩을 사용할 때는 다음 셀의 주석을 제거하고 GPU 버전의 텐서플로 2.0.0-alpha0 버전을 설치하세요.**"
   ]
  },
  {
   "cell_type": "code",
   "execution_count": 4,
   "metadata": {},
   "outputs": [],
   "source": [
    "#!pip install tensorflow-gpu==2.0.0-alpha0"
   ]
  },
  {
   "cell_type": "code",
   "execution_count": 5,
   "metadata": {},
   "outputs": [],
   "source": [
    "import matplotlib.pyplot as plt\n",
    "import tensorflow as tf\n",
    "import numpy as np"
   ]
  },
  {
   "cell_type": "markdown",
   "metadata": {},
   "source": [
    "## 텐서플로의 랭크와 텐서"
   ]
  },
  {
   "cell_type": "markdown",
   "metadata": {},
   "source": [
    "**텐서의 랭크와 크기를 확인하는 방법**"
   ]
  },
  {
   "cell_type": "code",
   "execution_count": 6,
   "metadata": {},
   "outputs": [
    {
     "name": "stdout",
     "output_type": "stream",
     "text": [
      "크기: () (4,) (2, 2)\n",
      "랭크: 0 1 2\n"
     ]
    }
   ],
   "source": [
    "## t1, t2, t3 텐서를 정의합니다.\n",
    "t1 = tf.constant(np.pi)\n",
    "t2 = tf.constant([1, 2, 3, 4])\n",
    "t3 = tf.constant([[1, 2], [3, 4]])\n",
    "\n",
    "## 랭크를 구합니다.\n",
    "r1 = tf.rank(t1)\n",
    "r2 = tf.rank(t2)\n",
    "r3 = tf.rank(t3)\n",
    "\n",
    "## 크기를 구합니다\n",
    "s1 = t1.get_shape()\n",
    "s2 = t2.get_shape()\n",
    "s3 = t3.get_shape()\n",
    "print('크기:', s1, s2, s3)\n",
    "\n",
    "print('랭크:', \n",
    "      r1.numpy(), \n",
    "      r2.numpy(), \n",
    "      r3.numpy())"
   ]
  },
  {
   "cell_type": "markdown",
   "metadata": {},
   "source": [
    "## 텐서를 다차원 배열로 변환하기"
   ]
  },
  {
   "cell_type": "code",
   "execution_count": 7,
   "metadata": {},
   "outputs": [
    {
     "name": "stdout",
     "output_type": "stream",
     "text": [
      "tf.Tensor(\n",
      "[[1.  2.  3.  3.5]\n",
      " [4.  5.  6.  6.5]\n",
      " [7.  8.  9.  9.5]], shape=(3, 4), dtype=float64)\n",
      "T1의 크기: (3, 4)\n",
      "T1의 크기: (3, 4)\n",
      "<tf.Variable 'Variable:0' shape=(3, 4) dtype=float64, numpy=\n",
      "array([[-1.10544303, -0.84594571,  2.17991938,  1.09767901],\n",
      "       [-0.68693369, -0.19806211, -0.64416043, -0.25732536],\n",
      "       [-0.11266982, -0.99292675,  1.56927073,  0.22665955]])>\n",
      "<tf.Variable 'Variable:0' shape=(3,) dtype=float64, numpy=array([-0.93262397,  0.23036119,  0.58647773])>\n"
     ]
    }
   ],
   "source": [
    "arr = np.array([[1., 2., 3., 3.5],\n",
    "                [4., 5., 6., 6.5],\n",
    "                [7., 8., 9., 9.5]])\n",
    "T1 = tf.constant(arr)\n",
    "print(T1)\n",
    "s = T1.get_shape()\n",
    "print('T1의 크기:', s)\n",
    "print('T1의 크기:', T1.shape)\n",
    "T2 = tf.Variable(np.random.normal(size=s))\n",
    "print(T2)\n",
    "T3 = tf.Variable(np.random.normal(size=s[0]))\n",
    "print(T3)"
   ]
  },
  {
   "cell_type": "code",
   "execution_count": 8,
   "metadata": {},
   "outputs": [
    {
     "name": "stdout",
     "output_type": "stream",
     "text": [
      "tf.Tensor([[[1.  2.  3.  3.5 4.  5.  6.  6.5 7.  8.  9.  9.5]]], shape=(1, 1, 12), dtype=float64)\n",
      "tf.Tensor(\n",
      "[[[1.  2.  3.  3.5]\n",
      "  [4.  5.  6.  6.5]\n",
      "  [7.  8.  9.  9.5]]], shape=(1, 3, 4), dtype=float64)\n"
     ]
    }
   ],
   "source": [
    "T4 = tf.reshape(T1, shape=[1, 1, -1])\n",
    "print(T4)\n",
    "T5 = tf.reshape(T1, shape=[1, 3, -1])\n",
    "print(T5)"
   ]
  },
  {
   "cell_type": "code",
   "execution_count": 9,
   "metadata": {},
   "outputs": [
    {
     "name": "stdout",
     "output_type": "stream",
     "text": [
      "tf.Tensor(\n",
      "[[[1. ]\n",
      "  [4. ]\n",
      "  [7. ]]\n",
      "\n",
      " [[2. ]\n",
      "  [5. ]\n",
      "  [8. ]]\n",
      "\n",
      " [[3. ]\n",
      "  [6. ]\n",
      "  [9. ]]\n",
      "\n",
      " [[3.5]\n",
      "  [6.5]\n",
      "  [9.5]]], shape=(4, 3, 1), dtype=float64)\n",
      "tf.Tensor(\n",
      "[[[1.  4.  7. ]\n",
      "  [2.  5.  8. ]\n",
      "  [3.  6.  9. ]\n",
      "  [3.5 6.5 9.5]]], shape=(1, 4, 3), dtype=float64)\n"
     ]
    }
   ],
   "source": [
    "T6 = tf.transpose(T5, perm=[2, 1, 0])\n",
    "print(T6)\n",
    "T7 = tf.transpose(T5, perm=[0, 2, 1])\n",
    "print(T7)"
   ]
  },
  {
   "cell_type": "code",
   "execution_count": 10,
   "metadata": {},
   "outputs": [
    {
     "name": "stdout",
     "output_type": "stream",
     "text": [
      "[<tf.Tensor: id=46, shape=(1, 3, 2), dtype=float64, numpy=\n",
      "array([[[1., 2.],\n",
      "        [4., 5.],\n",
      "        [7., 8.]]])>, <tf.Tensor: id=47, shape=(1, 3, 2), dtype=float64, numpy=\n",
      "array([[[3. , 3.5],\n",
      "        [6. , 6.5],\n",
      "        [9. , 9.5]]])>]\n"
     ]
    }
   ],
   "source": [
    "t5_splt = tf.split(T5, \n",
    "                   num_or_size_splits=2, \n",
    "                   axis=2)\n",
    "print(t5_splt)"
   ]
  },
  {
   "cell_type": "code",
   "execution_count": 11,
   "metadata": {},
   "outputs": [
    {
     "name": "stdout",
     "output_type": "stream",
     "text": [
      "tf.Tensor(\n",
      "[[1.]\n",
      " [1.]\n",
      " [1.]\n",
      " [1.]\n",
      " [1.]], shape=(5, 1), dtype=float32)\n",
      "tf.Tensor(\n",
      "[[0.]\n",
      " [0.]\n",
      " [0.]\n",
      " [0.]\n",
      " [0.]], shape=(5, 1), dtype=float32)\n",
      "tf.Tensor(\n",
      "[[1.]\n",
      " [1.]\n",
      " [1.]\n",
      " [1.]\n",
      " [1.]\n",
      " [0.]\n",
      " [0.]\n",
      " [0.]\n",
      " [0.]\n",
      " [0.]], shape=(10, 1), dtype=float32)\n",
      "tf.Tensor(\n",
      "[[1. 0.]\n",
      " [1. 0.]\n",
      " [1. 0.]\n",
      " [1. 0.]\n",
      " [1. 0.]], shape=(5, 2), dtype=float32)\n"
     ]
    }
   ],
   "source": [
    "t1 = tf.ones(shape=(5, 1), dtype=tf.float32)\n",
    "t2 = tf.zeros(shape=(5, 1), dtype=tf.float32)\n",
    "print(t1)\n",
    "print(t2)\n",
    "\n",
    "t3 = tf.concat([t1, t2], axis=0)\n",
    "print(t3)\n",
    "t4 = tf.concat([t1, t2], axis=1)\n",
    "print(t4)"
   ]
  },
  {
   "cell_type": "markdown",
   "metadata": {},
   "source": [
    "## 텐서플로의 계산 그래프 이해하기"
   ]
  },
  {
   "cell_type": "code",
   "execution_count": 12,
   "metadata": {},
   "outputs": [
    {
     "name": "stdout",
     "output_type": "stream",
     "text": [
      "2*(a-b)+c =>  1\n"
     ]
    }
   ],
   "source": [
    "a = tf.constant(1)\n",
    "b = tf.constant(2) \n",
    "c = tf.constant(3) \n",
    "\n",
    "z = 2*(a-b) + c\n",
    "\n",
    "print('2*(a-b)+c => ', z.numpy())"
   ]
  },
  {
   "cell_type": "code",
   "execution_count": 13,
   "metadata": {
    "scrolled": true
   },
   "outputs": [
    {
     "name": "stdout",
     "output_type": "stream",
     "text": [
      "2*(a-b)+c =>  1\n"
     ]
    }
   ],
   "source": [
    "## 텐서플로 1.x 방식\n",
    "g = tf.Graph()\n",
    " \n",
    "## 그래프에 노드를 추가합니다.\n",
    "with g.as_default():\n",
    "    a = tf.constant(1, name='a')\n",
    "    b = tf.constant(2, name='b') \n",
    "    c = tf.constant(3, name='c') \n",
    "\n",
    "    z = 2*(a-b) + c\n",
    "    \n",
    "## 그래프를 실행합니다.\n",
    "with tf.compat.v1.Session(graph=g) as sess:\n",
    "    print('2*(a-b)+c => ', sess.run(z))"
   ]
  },
  {
   "cell_type": "code",
   "execution_count": 14,
   "metadata": {},
   "outputs": [
    {
     "data": {
      "text/plain": [
       "[<tf.Operation 'a' type=Const>,\n",
       " <tf.Operation 'b' type=Const>,\n",
       " <tf.Operation 'c' type=Const>,\n",
       " <tf.Operation 'sub' type=Sub>,\n",
       " <tf.Operation 'mul/x' type=Const>,\n",
       " <tf.Operation 'mul' type=Mul>,\n",
       " <tf.Operation 'add' type=Add>]"
      ]
     },
     "execution_count": 14,
     "metadata": {},
     "output_type": "execute_result"
    }
   ],
   "source": [
    "g.get_operations()"
   ]
  },
  {
   "cell_type": "code",
   "execution_count": 15,
   "metadata": {},
   "outputs": [
    {
     "data": {
      "text/plain": [
       "node {\n",
       "  name: \"a\"\n",
       "  op: \"Const\"\n",
       "  attr {\n",
       "    key: \"dtype\"\n",
       "    value {\n",
       "      type: DT_INT32\n",
       "    }\n",
       "  }\n",
       "  attr {\n",
       "    key: \"value\"\n",
       "    value {\n",
       "      tensor {\n",
       "        dtype: DT_INT32\n",
       "        tensor_shape {\n",
       "        }\n",
       "        int_val: 1\n",
       "      }\n",
       "    }\n",
       "  }\n",
       "}\n",
       "node {\n",
       "  name: \"b\"\n",
       "  op: \"Const\"\n",
       "  attr {\n",
       "    key: \"dtype\"\n",
       "    value {\n",
       "      type: DT_INT32\n",
       "    }\n",
       "  }\n",
       "  attr {\n",
       "    key: \"value\"\n",
       "    value {\n",
       "      tensor {\n",
       "        dtype: DT_INT32\n",
       "        tensor_shape {\n",
       "        }\n",
       "        int_val: 2\n",
       "      }\n",
       "    }\n",
       "  }\n",
       "}\n",
       "node {\n",
       "  name: \"c\"\n",
       "  op: \"Const\"\n",
       "  attr {\n",
       "    key: \"dtype\"\n",
       "    value {\n",
       "      type: DT_INT32\n",
       "    }\n",
       "  }\n",
       "  attr {\n",
       "    key: \"value\"\n",
       "    value {\n",
       "      tensor {\n",
       "        dtype: DT_INT32\n",
       "        tensor_shape {\n",
       "        }\n",
       "        int_val: 3\n",
       "      }\n",
       "    }\n",
       "  }\n",
       "}\n",
       "node {\n",
       "  name: \"sub\"\n",
       "  op: \"Sub\"\n",
       "  input: \"a\"\n",
       "  input: \"b\"\n",
       "  attr {\n",
       "    key: \"T\"\n",
       "    value {\n",
       "      type: DT_INT32\n",
       "    }\n",
       "  }\n",
       "}\n",
       "node {\n",
       "  name: \"mul/x\"\n",
       "  op: \"Const\"\n",
       "  attr {\n",
       "    key: \"dtype\"\n",
       "    value {\n",
       "      type: DT_INT32\n",
       "    }\n",
       "  }\n",
       "  attr {\n",
       "    key: \"value\"\n",
       "    value {\n",
       "      tensor {\n",
       "        dtype: DT_INT32\n",
       "        tensor_shape {\n",
       "        }\n",
       "        int_val: 2\n",
       "      }\n",
       "    }\n",
       "  }\n",
       "}\n",
       "node {\n",
       "  name: \"mul\"\n",
       "  op: \"Mul\"\n",
       "  input: \"mul/x\"\n",
       "  input: \"sub\"\n",
       "  attr {\n",
       "    key: \"T\"\n",
       "    value {\n",
       "      type: DT_INT32\n",
       "    }\n",
       "  }\n",
       "}\n",
       "node {\n",
       "  name: \"add\"\n",
       "  op: \"Add\"\n",
       "  input: \"mul\"\n",
       "  input: \"c\"\n",
       "  attr {\n",
       "    key: \"T\"\n",
       "    value {\n",
       "      type: DT_INT32\n",
       "    }\n",
       "  }\n",
       "}\n",
       "versions {\n",
       "  producer: 27\n",
       "}"
      ]
     },
     "execution_count": 15,
     "metadata": {},
     "output_type": "execute_result"
    }
   ],
   "source": [
    "g.as_graph_def()"
   ]
  },
  {
   "cell_type": "code",
   "execution_count": 16,
   "metadata": {},
   "outputs": [
    {
     "name": "stdout",
     "output_type": "stream",
     "text": [
      "2*(a-b)+c =>  1\n"
     ]
    }
   ],
   "source": [
    "@tf.function\n",
    "def simple_func():\n",
    "    a = tf.constant(1)\n",
    "    b = tf.constant(2) \n",
    "    c = tf.constant(3) \n",
    "\n",
    "    z = 2*(a-b) + c\n",
    "    return z\n",
    "\n",
    "print('2*(a-b)+c => ', simple_func().numpy())"
   ]
  },
  {
   "cell_type": "code",
   "execution_count": 17,
   "metadata": {},
   "outputs": [
    {
     "name": "stdout",
     "output_type": "stream",
     "text": [
      "<class 'tensorflow.python.eager.def_function.Function'>\n"
     ]
    }
   ],
   "source": [
    "print(simple_func.__class__)"
   ]
  },
  {
   "cell_type": "code",
   "execution_count": 18,
   "metadata": {},
   "outputs": [
    {
     "name": "stdout",
     "output_type": "stream",
     "text": [
      "2*(a-b)+c =>  1\n"
     ]
    }
   ],
   "source": [
    "def simple_func():\n",
    "    a = tf.constant(1, name='a')\n",
    "    b = tf.constant(2, name='b') \n",
    "    c = tf.constant(3, name='c') \n",
    "\n",
    "    z = 2*(a-b) + c\n",
    "    return z\n",
    "\n",
    "simple_func = tf.function(simple_func)\n",
    "\n",
    "print('2*(a-b)+c => ', simple_func().numpy())"
   ]
  },
  {
   "cell_type": "code",
   "execution_count": 19,
   "metadata": {
    "scrolled": true
   },
   "outputs": [
    {
     "data": {
      "text/plain": [
       "[<tf.Operation 'a' type=Const>,\n",
       " <tf.Operation 'b' type=Const>,\n",
       " <tf.Operation 'c' type=Const>,\n",
       " <tf.Operation 'sub' type=Sub>,\n",
       " <tf.Operation 'mul/x' type=Const>,\n",
       " <tf.Operation 'mul' type=Mul>,\n",
       " <tf.Operation 'add' type=Add>,\n",
       " <tf.Operation 'Identity' type=Identity>]"
      ]
     },
     "execution_count": 19,
     "metadata": {},
     "output_type": "execute_result"
    }
   ],
   "source": [
    "con_func = simple_func.get_concrete_function()\n",
    "con_func.graph.get_operations()"
   ]
  },
  {
   "cell_type": "code",
   "execution_count": 20,
   "metadata": {
    "scrolled": false
   },
   "outputs": [
    {
     "data": {
      "text/plain": [
       "node {\n",
       "  name: \"a\"\n",
       "  op: \"Const\"\n",
       "  attr {\n",
       "    key: \"dtype\"\n",
       "    value {\n",
       "      type: DT_INT32\n",
       "    }\n",
       "  }\n",
       "  attr {\n",
       "    key: \"value\"\n",
       "    value {\n",
       "      tensor {\n",
       "        dtype: DT_INT32\n",
       "        tensor_shape {\n",
       "        }\n",
       "        int_val: 1\n",
       "      }\n",
       "    }\n",
       "  }\n",
       "}\n",
       "node {\n",
       "  name: \"b\"\n",
       "  op: \"Const\"\n",
       "  attr {\n",
       "    key: \"dtype\"\n",
       "    value {\n",
       "      type: DT_INT32\n",
       "    }\n",
       "  }\n",
       "  attr {\n",
       "    key: \"value\"\n",
       "    value {\n",
       "      tensor {\n",
       "        dtype: DT_INT32\n",
       "        tensor_shape {\n",
       "        }\n",
       "        int_val: 2\n",
       "      }\n",
       "    }\n",
       "  }\n",
       "}\n",
       "node {\n",
       "  name: \"c\"\n",
       "  op: \"Const\"\n",
       "  attr {\n",
       "    key: \"dtype\"\n",
       "    value {\n",
       "      type: DT_INT32\n",
       "    }\n",
       "  }\n",
       "  attr {\n",
       "    key: \"value\"\n",
       "    value {\n",
       "      tensor {\n",
       "        dtype: DT_INT32\n",
       "        tensor_shape {\n",
       "        }\n",
       "        int_val: 3\n",
       "      }\n",
       "    }\n",
       "  }\n",
       "}\n",
       "node {\n",
       "  name: \"sub\"\n",
       "  op: \"Sub\"\n",
       "  input: \"a\"\n",
       "  input: \"b\"\n",
       "  attr {\n",
       "    key: \"T\"\n",
       "    value {\n",
       "      type: DT_INT32\n",
       "    }\n",
       "  }\n",
       "}\n",
       "node {\n",
       "  name: \"mul/x\"\n",
       "  op: \"Const\"\n",
       "  attr {\n",
       "    key: \"dtype\"\n",
       "    value {\n",
       "      type: DT_INT32\n",
       "    }\n",
       "  }\n",
       "  attr {\n",
       "    key: \"value\"\n",
       "    value {\n",
       "      tensor {\n",
       "        dtype: DT_INT32\n",
       "        tensor_shape {\n",
       "        }\n",
       "        int_val: 2\n",
       "      }\n",
       "    }\n",
       "  }\n",
       "}\n",
       "node {\n",
       "  name: \"mul\"\n",
       "  op: \"Mul\"\n",
       "  input: \"mul/x\"\n",
       "  input: \"sub\"\n",
       "  attr {\n",
       "    key: \"T\"\n",
       "    value {\n",
       "      type: DT_INT32\n",
       "    }\n",
       "  }\n",
       "}\n",
       "node {\n",
       "  name: \"add\"\n",
       "  op: \"Add\"\n",
       "  input: \"mul\"\n",
       "  input: \"c\"\n",
       "  attr {\n",
       "    key: \"T\"\n",
       "    value {\n",
       "      type: DT_INT32\n",
       "    }\n",
       "  }\n",
       "}\n",
       "node {\n",
       "  name: \"Identity\"\n",
       "  op: \"Identity\"\n",
       "  input: \"add\"\n",
       "  attr {\n",
       "    key: \"T\"\n",
       "    value {\n",
       "      type: DT_INT32\n",
       "    }\n",
       "  }\n",
       "}\n",
       "versions {\n",
       "  producer: 27\n",
       "}"
      ]
     },
     "execution_count": 20,
     "metadata": {},
     "output_type": "execute_result"
    }
   ],
   "source": [
    "con_func.graph.as_graph_def()"
   ]
  },
  {
   "cell_type": "markdown",
   "metadata": {},
   "source": [
    "## 텐서플로의 변수"
   ]
  },
  {
   "cell_type": "code",
   "execution_count": 21,
   "metadata": {},
   "outputs": [
    {
     "name": "stdout",
     "output_type": "stream",
     "text": [
      "<tf.Variable 'w1:0' shape=(2, 4) dtype=int64>\n"
     ]
    }
   ],
   "source": [
    "g1 = tf.Graph()\n",
    "\n",
    "with g1.as_default():\n",
    "    w1 = tf.Variable(np.array([[1, 2, 3, 4],\n",
    "                              [5, 6, 7, 8]]), name='w1')\n",
    "print(w1)"
   ]
  },
  {
   "cell_type": "code",
   "execution_count": 22,
   "metadata": {
    "scrolled": true
   },
   "outputs": [
    {
     "data": {
      "text/plain": [
       "[<tf.Operation 'w1/Initializer/initial_value' type=Const>,\n",
       " <tf.Operation 'w1' type=VarHandleOp>,\n",
       " <tf.Operation 'w1/IsInitialized/VarIsInitializedOp' type=VarIsInitializedOp>,\n",
       " <tf.Operation 'w1/Assign' type=AssignVariableOp>,\n",
       " <tf.Operation 'w1/Read/ReadVariableOp' type=ReadVariableOp>]"
      ]
     },
     "execution_count": 22,
     "metadata": {},
     "output_type": "execute_result"
    }
   ],
   "source": [
    "g1.get_operations()"
   ]
  },
  {
   "cell_type": "code",
   "execution_count": 23,
   "metadata": {
    "scrolled": false
   },
   "outputs": [
    {
     "name": "stdout",
     "output_type": "stream",
     "text": [
      "name: \"init\"\n",
      "op: \"NoOp\"\n",
      "input: \"^w1/Assign\"\n",
      "\n"
     ]
    }
   ],
   "source": [
    "with g1.as_default():\n",
    "    init = tf.compat.v1.global_variables_initializer()\n",
    "    print(init.node_def)"
   ]
  },
  {
   "cell_type": "code",
   "execution_count": 24,
   "metadata": {},
   "outputs": [
    {
     "name": "stdout",
     "output_type": "stream",
     "text": [
      "Tensor(\"add:0\", shape=(2, 4), dtype=int64)\n",
      "[[2 3 4 5]\n",
      " [6 7 8 9]]\n",
      "[[2 3 4 5]\n",
      " [6 7 8 9]]\n"
     ]
    }
   ],
   "source": [
    "with g1.as_default():\n",
    "    w1 = w1 + 1\n",
    "    print(w1)\n",
    "    \n",
    "with tf.compat.v1.Session(graph=g1) as sess:\n",
    "    init = tf.compat.v1.global_variables_initializer()\n",
    "    sess.run(init)\n",
    "    print(sess.run(w1))\n",
    "    print(sess.run(w1))"
   ]
  },
  {
   "cell_type": "code",
   "execution_count": 25,
   "metadata": {},
   "outputs": [
    {
     "name": "stdout",
     "output_type": "stream",
     "text": [
      "[[2 3 4 5]\n",
      " [6 7 8 9]]\n",
      "[[ 3  4  5  6]\n",
      " [ 7  8  9 10]]\n"
     ]
    }
   ],
   "source": [
    "g2 = tf.Graph()\n",
    "\n",
    "with g2.as_default():\n",
    "    w1 = tf.Variable(np.array([[1, 2, 3, 4],\n",
    "                              [5, 6, 7, 8]]), name='w1')\n",
    "    w1 = w1.assign(w1 + 1)\n",
    "\n",
    "with tf.compat.v1.Session(graph=g2) as sess:\n",
    "    init = tf.compat.v1.global_variables_initializer()\n",
    "    sess.run(init)\n",
    "    print(sess.run(w1))\n",
    "    print(sess.run(w1))"
   ]
  },
  {
   "cell_type": "code",
   "execution_count": 26,
   "metadata": {},
   "outputs": [
    {
     "name": "stdout",
     "output_type": "stream",
     "text": [
      "<tf.Variable 'w2:0' shape=(2, 4) dtype=int64, numpy=\n",
      "array([[1, 2, 3, 4],\n",
      "       [5, 6, 7, 8]])>\n"
     ]
    }
   ],
   "source": [
    "w2 = tf.Variable(np.array([[1, 2, 3, 4],\n",
    "                          [5, 6, 7, 8]]), name='w2')\n",
    "print(w2)"
   ]
  },
  {
   "cell_type": "code",
   "execution_count": 27,
   "metadata": {},
   "outputs": [
    {
     "name": "stdout",
     "output_type": "stream",
     "text": [
      "tf.Tensor(\n",
      "[[2 3 4 5]\n",
      " [6 7 8 9]], shape=(2, 4), dtype=int64)\n"
     ]
    }
   ],
   "source": [
    "print(w2 + 1)"
   ]
  },
  {
   "cell_type": "code",
   "execution_count": 28,
   "metadata": {},
   "outputs": [
    {
     "name": "stdout",
     "output_type": "stream",
     "text": [
      "[[2 3 4 5]\n",
      " [6 7 8 9]]\n",
      "[[ 3  4  5  6]\n",
      " [ 7  8  9 10]]\n"
     ]
    }
   ],
   "source": [
    "w2.assign(w2 + 1)\n",
    "print(w2.numpy())\n",
    "w2.assign(w2 + 1)\n",
    "print(w2.numpy())"
   ]
  },
  {
   "cell_type": "code",
   "execution_count": 29,
   "metadata": {
    "scrolled": true
   },
   "outputs": [
    {
     "name": "stdout",
     "output_type": "stream",
     "text": [
      "<tf.Variable 'w2:0' shape=(2, 4) dtype=int64, numpy=\n",
      "array([[ 3,  4,  5,  6],\n",
      "       [ 7,  8,  9, 10]])>\n"
     ]
    }
   ],
   "source": [
    "print(w2)"
   ]
  },
  {
   "cell_type": "markdown",
   "metadata": {},
   "source": [
    "## tf.keras API 자세히 배우기"
   ]
  },
  {
   "cell_type": "markdown",
   "metadata": {},
   "source": [
    "### Sequential 모델"
   ]
  },
  {
   "cell_type": "code",
   "execution_count": 30,
   "metadata": {},
   "outputs": [
    {
     "data": {
      "image/png": "[encoded data removed]",
      "text/plain": [
       "<Figure size 432x288 with 1 Axes>"
      ]
     },
     "metadata": {
      "needs_background": "light"
     },
     "output_type": "display_data"
    }
   ],
   "source": [
    "## 랜덤한 회귀용 예제 데이터셋을 만듭니다\n",
    "\n",
    "np.random.seed(0)\n",
    "\n",
    "def make_random_data():\n",
    "    x = np.random.uniform(low=-2, high=2, size=200)\n",
    "    y = []\n",
    "    for t in x:\n",
    "        r = np.random.normal(loc=0.0, \n",
    "                             scale=(0.5 + t*t/3), \n",
    "                             size=None)\n",
    "        y.append(r)\n",
    "    return  x, 1.726*x -0.84 + np.array(y)\n",
    "\n",
    "\n",
    "x, y = make_random_data() \n",
    "\n",
    "plt.plot(x, y, 'o')\n",
    "plt.show()"
   ]
  },
  {
   "cell_type": "code",
   "execution_count": 31,
   "metadata": {},
   "outputs": [],
   "source": [
    "x_train, y_train = x[:150], y[:150]\n",
    "x_test, y_test = x[150:], y[150:]"
   ]
  },
  {
   "cell_type": "code",
   "execution_count": 32,
   "metadata": {},
   "outputs": [],
   "source": [
    "model = tf.keras.Sequential()\n",
    "\n",
    "model.add(tf.keras.layers.Dense(units=1, input_dim=1))"
   ]
  },
  {
   "cell_type": "code",
   "execution_count": 33,
   "metadata": {
    "scrolled": false
   },
   "outputs": [
    {
     "name": "stdout",
     "output_type": "stream",
     "text": [
      "Model: \"sequential\"\n",
      "_________________________________________________________________\n",
      "Layer (type)                 Output Shape              Param #   \n",
      "=================================================================\n",
      "dense (Dense)                (None, 1)                 2         \n",
      "=================================================================\n",
      "Total params: 2\n",
      "Trainable params: 2\n",
      "Non-trainable params: 0\n",
      "_________________________________________________________________\n"
     ]
    }
   ],
   "source": [
    "model.summary()"
   ]
  },
  {
   "cell_type": "code",
   "execution_count": 34,
   "metadata": {},
   "outputs": [
    {
     "name": "stdout",
     "output_type": "stream",
     "text": [
      "Train on 105 samples, validate on 45 samples\n",
      "Epoch 1/50\n",
      "105/105 [==============================] - 0s 2ms/sample - loss: 6.7335 - val_loss: 4.4823\n",
      "Epoch 2/50\n",
      "105/105 [==============================] - 0s 74us/sample - loss: 6.6098 - val_loss: 4.4066\n",
      "Epoch 3/50\n",
      "105/105 [==============================] - 0s 67us/sample - loss: 6.4853 - val_loss: 4.3296\n",
      "Epoch 4/50\n",
      "105/105 [==============================] - 0s 87us/sample - loss: 6.3582 - val_loss: 4.2549\n",
      "Epoch 5/50\n",
      "105/105 [==============================] - 0s 71us/sample - loss: 6.2367 - val_loss: 4.1849\n",
      "Epoch 6/50\n",
      "105/105 [==============================] - 0s 92us/sample - loss: 6.1196 - val_loss: 4.1202\n",
      "Epoch 7/50\n",
      "105/105 [==============================] - 0s 75us/sample - loss: 6.0127 - val_loss: 4.0544\n",
      "Epoch 8/50\n",
      "105/105 [==============================] - 0s 122us/sample - loss: 5.9027 - val_loss: 3.9861\n",
      "Epoch 9/50\n",
      "105/105 [==============================] - 0s 79us/sample - loss: 5.7915 - val_loss: 3.9240\n",
      "Epoch 10/50\n",
      "105/105 [==============================] - 0s 90us/sample - loss: 5.6863 - val_loss: 3.8605\n",
      "Epoch 11/50\n",
      "105/105 [==============================] - 0s 114us/sample - loss: 5.5809 - val_loss: 3.7985\n",
      "Epoch 12/50\n",
      "105/105 [==============================] - 0s 76us/sample - loss: 5.4798 - val_loss: 3.7400\n",
      "Epoch 13/50\n",
      "105/105 [==============================] - 0s 72us/sample - loss: 5.3807 - val_loss: 3.6808\n",
      "Epoch 14/50\n",
      "105/105 [==============================] - 0s 118us/sample - loss: 5.2801 - val_loss: 3.6159\n",
      "Epoch 15/50\n",
      "105/105 [==============================] - 0s 548us/sample - loss: 5.1730 - val_loss: 3.5533\n",
      "Epoch 16/50\n",
      "105/105 [==============================] - 0s 100us/sample - loss: 5.0701 - val_loss: 3.5004\n",
      "Epoch 17/50\n",
      "105/105 [==============================] - 0s 105us/sample - loss: 4.9838 - val_loss: 3.4468\n",
      "Epoch 18/50\n",
      "105/105 [==============================] - 0s 90us/sample - loss: 4.8942 - val_loss: 3.3955\n",
      "Epoch 19/50\n",
      "105/105 [==============================] - 0s 165us/sample - loss: 4.8087 - val_loss: 3.3433\n",
      "Epoch 20/50\n",
      "105/105 [==============================] - 0s 77us/sample - loss: 4.7223 - val_loss: 3.2890\n",
      "Epoch 21/50\n",
      "105/105 [==============================] - 0s 80us/sample - loss: 4.6315 - val_loss: 3.2399\n",
      "Epoch 22/50\n",
      "105/105 [==============================] - 0s 101us/sample - loss: 4.5488 - val_loss: 3.1909\n",
      "Epoch 23/50\n",
      "105/105 [==============================] - 0s 151us/sample - loss: 4.4684 - val_loss: 3.1484\n",
      "Epoch 24/50\n",
      "105/105 [==============================] - 0s 200us/sample - loss: 4.3986 - val_loss: 3.1007\n",
      "Epoch 25/50\n",
      "105/105 [==============================] - 0s 73us/sample - loss: 4.3209 - val_loss: 3.0539\n",
      "Epoch 26/50\n",
      "105/105 [==============================] - 0s 111us/sample - loss: 4.2435 - val_loss: 3.0102\n",
      "Epoch 27/50\n",
      "105/105 [==============================] - 0s 77us/sample - loss: 4.1729 - val_loss: 2.9651\n",
      "Epoch 28/50\n",
      "105/105 [==============================] - 0s 97us/sample - loss: 4.1019 - val_loss: 2.9260\n",
      "Epoch 29/50\n",
      "105/105 [==============================] - 0s 79us/sample - loss: 4.0364 - val_loss: 2.8879\n",
      "Epoch 30/50\n",
      "105/105 [==============================] - 0s 82us/sample - loss: 3.9724 - val_loss: 2.8435\n",
      "Epoch 31/50\n",
      "105/105 [==============================] - 0s 68us/sample - loss: 3.8992 - val_loss: 2.8020\n",
      "Epoch 32/50\n",
      "105/105 [==============================] - 0s 60us/sample - loss: 3.8290 - val_loss: 2.7592\n",
      "Epoch 33/50\n",
      "105/105 [==============================] - 0s 63us/sample - loss: 3.7613 - val_loss: 2.7227\n",
      "Epoch 34/50\n",
      "105/105 [==============================] - 0s 59us/sample - loss: 3.7032 - val_loss: 2.6899\n",
      "Epoch 35/50\n",
      "105/105 [==============================] - 0s 73us/sample - loss: 3.6474 - val_loss: 2.6530\n",
      "Epoch 36/50\n",
      "105/105 [==============================] - 0s 97us/sample - loss: 3.5887 - val_loss: 2.6188\n",
      "Epoch 37/50\n",
      "105/105 [==============================] - 0s 59us/sample - loss: 3.5328 - val_loss: 2.5861\n",
      "Epoch 38/50\n",
      "105/105 [==============================] - 0s 65us/sample - loss: 3.4791 - val_loss: 2.5563\n",
      "Epoch 39/50\n",
      "105/105 [==============================] - 0s 74us/sample - loss: 3.4283 - val_loss: 2.5250\n",
      "Epoch 40/50\n",
      "105/105 [==============================] - 0s 89us/sample - loss: 3.3763 - val_loss: 2.4899\n",
      "Epoch 41/50\n",
      "105/105 [==============================] - 0s 69us/sample - loss: 3.3181 - val_loss: 2.4595\n",
      "Epoch 42/50\n",
      "105/105 [==============================] - 0s 95us/sample - loss: 3.2665 - val_loss: 2.4283\n",
      "Epoch 43/50\n",
      "105/105 [==============================] - 0s 76us/sample - loss: 3.2152 - val_loss: 2.3977\n",
      "Epoch 44/50\n",
      "105/105 [==============================] - 0s 87us/sample - loss: 3.1655 - val_loss: 2.3667\n",
      "Epoch 45/50\n",
      "105/105 [==============================] - 0s 60us/sample - loss: 3.1140 - val_loss: 2.3374\n",
      "Epoch 46/50\n",
      "105/105 [==============================] - 0s 113us/sample - loss: 3.0657 - val_loss: 2.3077\n",
      "Epoch 47/50\n",
      "105/105 [==============================] - 0s 75us/sample - loss: 3.0180 - val_loss: 2.2783\n",
      "Epoch 48/50\n",
      "105/105 [==============================] - 0s 125us/sample - loss: 2.9700 - val_loss: 2.2495\n",
      "Epoch 49/50\n",
      "105/105 [==============================] - 0s 98us/sample - loss: 2.9226 - val_loss: 2.2204\n",
      "Epoch 50/50\n",
      "105/105 [==============================] - 0s 79us/sample - loss: 2.8735 - val_loss: 2.1905\n"
     ]
    }
   ],
   "source": [
    "model.compile(optimizer='sgd', loss='mse')\n",
    "history = model.fit(x_train, y_train, epochs=50, \n",
    "                    validation_split=0.3)"
   ]
  },
  {
   "cell_type": "code",
   "execution_count": 35,
   "metadata": {
    "scrolled": true
   },
   "outputs": [
    {
     "data": {
      "image/png": "[encoded data removed]",
      "text/plain": [
       "<Figure size 432x288 with 1 Axes>"
      ]
     },
     "metadata": {
      "needs_background": "light"
     },
     "output_type": "display_data"
    }
   ],
   "source": [
    "epochs = np.arange(1, 50+1)\n",
    "plt.plot(epochs, history.history['loss'], label='Training loss')\n",
    "plt.xlabel('Epochs')\n",
    "plt.ylabel('Loss')\n",
    "plt.legend()\n",
    "plt.show()"
   ]
  },
  {
   "cell_type": "markdown",
   "metadata": {},
   "source": [
    "### 함수형 API"
   ]
  },
  {
   "cell_type": "code",
   "execution_count": 36,
   "metadata": {
    "scrolled": false
   },
   "outputs": [
    {
     "name": "stdout",
     "output_type": "stream",
     "text": [
      "Model: \"model\"\n",
      "_________________________________________________________________\n",
      "Layer (type)                 Output Shape              Param #   \n",
      "=================================================================\n",
      "input_1 (InputLayer)         [(None, 1)]               0         \n",
      "_________________________________________________________________\n",
      "dense_1 (Dense)              (None, 1)                 2         \n",
      "=================================================================\n",
      "Total params: 2\n",
      "Trainable params: 2\n",
      "Non-trainable params: 0\n",
      "_________________________________________________________________\n"
     ]
    }
   ],
   "source": [
    "input = tf.keras.Input(shape=(1,))\n",
    "output = tf.keras.layers.Dense(1)(input)\n",
    "\n",
    "model = tf.keras.Model(input, output)\n",
    "\n",
    "model.summary()"
   ]
  },
  {
   "cell_type": "code",
   "execution_count": 37,
   "metadata": {},
   "outputs": [
    {
     "name": "stdout",
     "output_type": "stream",
     "text": [
      "Train on 105 samples, validate on 45 samples\n",
      "Epoch 1/50\n",
      "105/105 [==============================] - 0s 1ms/sample - loss: 11.8940 - val_loss: 8.0496\n",
      "Epoch 2/50\n",
      "105/105 [==============================] - 0s 60us/sample - loss: 11.6334 - val_loss: 7.9030\n",
      "Epoch 3/50\n",
      "105/105 [==============================] - 0s 61us/sample - loss: 11.4063 - val_loss: 7.7670\n",
      "Epoch 4/50\n",
      "105/105 [==============================] - 0s 98us/sample - loss: 11.1898 - val_loss: 7.6277\n",
      "Epoch 5/50\n",
      "105/105 [==============================] - 0s 68us/sample - loss: 10.9714 - val_loss: 7.4750\n",
      "Epoch 6/50\n",
      "105/105 [==============================] - 0s 125us/sample - loss: 10.7351 - val_loss: 7.3464\n",
      "Epoch 7/50\n",
      "105/105 [==============================] - 0s 132us/sample - loss: 10.5259 - val_loss: 7.2032\n",
      "Epoch 8/50\n",
      "105/105 [==============================] - 0s 82us/sample - loss: 10.3094 - val_loss: 7.0734\n",
      "Epoch 9/50\n",
      "105/105 [==============================] - 0s 102us/sample - loss: 10.1073 - val_loss: 6.9419\n",
      "Epoch 10/50\n",
      "105/105 [==============================] - 0s 65us/sample - loss: 9.8996 - val_loss: 6.8169\n",
      "Epoch 11/50\n",
      "105/105 [==============================] - 0s 107us/sample - loss: 9.7046 - val_loss: 6.6976\n",
      "Epoch 12/50\n",
      "105/105 [==============================] - 0s 68us/sample - loss: 9.5156 - val_loss: 6.5674\n",
      "Epoch 13/50\n",
      "105/105 [==============================] - 0s 130us/sample - loss: 9.3127 - val_loss: 6.4545\n",
      "Epoch 14/50\n",
      "105/105 [==============================] - 0s 67us/sample - loss: 9.1370 - val_loss: 6.3282\n",
      "Epoch 15/50\n",
      "105/105 [==============================] - 0s 64us/sample - loss: 8.9481 - val_loss: 6.2179\n",
      "Epoch 16/50\n",
      "105/105 [==============================] - 0s 85us/sample - loss: 8.7759 - val_loss: 6.1126\n",
      "Epoch 17/50\n",
      "105/105 [==============================] - 0s 116us/sample - loss: 8.6129 - val_loss: 6.0074\n",
      "Epoch 18/50\n",
      "105/105 [==============================] - 0s 83us/sample - loss: 8.4466 - val_loss: 5.9023\n",
      "Epoch 19/50\n",
      "105/105 [==============================] - 0s 91us/sample - loss: 8.2855 - val_loss: 5.7991\n",
      "Epoch 20/50\n",
      "105/105 [==============================] - 0s 93us/sample - loss: 8.1251 - val_loss: 5.6936\n",
      "Epoch 21/50\n",
      "105/105 [==============================] - 0s 82us/sample - loss: 7.9599 - val_loss: 5.5955\n",
      "Epoch 22/50\n",
      "105/105 [==============================] - 0s 109us/sample - loss: 7.8081 - val_loss: 5.4991\n",
      "Epoch 23/50\n",
      "105/105 [==============================] - 0s 68us/sample - loss: 7.6591 - val_loss: 5.4012\n",
      "Epoch 24/50\n",
      "105/105 [==============================] - 0s 112us/sample - loss: 7.5043 - val_loss: 5.3028\n",
      "Epoch 25/50\n",
      "105/105 [==============================] - 0s 128us/sample - loss: 7.3585 - val_loss: 5.2108\n",
      "Epoch 26/50\n",
      "105/105 [==============================] - 0s 79us/sample - loss: 7.2188 - val_loss: 5.1275\n",
      "Epoch 27/50\n",
      "105/105 [==============================] - 0s 102us/sample - loss: 7.0886 - val_loss: 5.0396\n",
      "Epoch 28/50\n",
      "105/105 [==============================] - 0s 62us/sample - loss: 6.9537 - val_loss: 4.9433\n",
      "Epoch 29/50\n",
      "105/105 [==============================] - 0s 133us/sample - loss: 6.8081 - val_loss: 4.8616\n",
      "Epoch 30/50\n",
      "105/105 [==============================] - 0s 78us/sample - loss: 6.6812 - val_loss: 4.7812\n",
      "Epoch 31/50\n",
      "105/105 [==============================] - 0s 91us/sample - loss: 6.5562 - val_loss: 4.7059\n",
      "Epoch 32/50\n",
      "105/105 [==============================] - 0s 116us/sample - loss: 6.4386 - val_loss: 4.6265\n",
      "Epoch 33/50\n",
      "105/105 [==============================] - 0s 107us/sample - loss: 6.3138 - val_loss: 4.5454\n",
      "Epoch 34/50\n",
      "105/105 [==============================] - 0s 99us/sample - loss: 6.1910 - val_loss: 4.4762\n",
      "Epoch 35/50\n",
      "105/105 [==============================] - 0s 133us/sample - loss: 6.0812 - val_loss: 4.3988\n",
      "Epoch 36/50\n",
      "105/105 [==============================] - 0s 142us/sample - loss: 5.9609 - val_loss: 4.3201\n",
      "Epoch 37/50\n",
      "105/105 [==============================] - 0s 137us/sample - loss: 5.8447 - val_loss: 4.2507\n",
      "Epoch 38/50\n",
      "105/105 [==============================] - 0s 123us/sample - loss: 5.7363 - val_loss: 4.1849\n",
      "Epoch 39/50\n",
      "105/105 [==============================] - 0s 63us/sample - loss: 5.6347 - val_loss: 4.1107\n",
      "Epoch 40/50\n",
      "105/105 [==============================] - 0s 74us/sample - loss: 5.5222 - val_loss: 4.0432\n",
      "Epoch 41/50\n",
      "105/105 [==============================] - 0s 100us/sample - loss: 5.4177 - val_loss: 3.9814\n",
      "Epoch 42/50\n",
      "105/105 [==============================] - 0s 110us/sample - loss: 5.3225 - val_loss: 3.9179\n",
      "Epoch 43/50\n",
      "105/105 [==============================] - 0s 122us/sample - loss: 5.2242 - val_loss: 3.8563\n",
      "Epoch 44/50\n",
      "105/105 [==============================] - 0s 155us/sample - loss: 5.1285 - val_loss: 3.7903\n",
      "Epoch 45/50\n",
      "105/105 [==============================] - 0s 86us/sample - loss: 5.0282 - val_loss: 3.7310\n",
      "Epoch 46/50\n",
      "105/105 [==============================] - 0s 89us/sample - loss: 4.9370 - val_loss: 3.6692\n",
      "Epoch 47/50\n",
      "105/105 [==============================] - 0s 80us/sample - loss: 4.8431 - val_loss: 3.6087\n",
      "Epoch 48/50\n",
      "105/105 [==============================] - 0s 62us/sample - loss: 4.7473 - val_loss: 3.5541\n",
      "Epoch 49/50\n",
      "105/105 [==============================] - 0s 126us/sample - loss: 4.6648 - val_loss: 3.4967\n",
      "Epoch 50/50\n",
      "105/105 [==============================] - 0s 69us/sample - loss: 4.5767 - val_loss: 3.4407\n"
     ]
    }
   ],
   "source": [
    "model.compile(optimizer='sgd', loss='mse')\n",
    "history = model.fit(x_train, y_train, epochs=50, \n",
    "                    validation_split=0.3)"
   ]
  },
  {
   "cell_type": "code",
   "execution_count": 38,
   "metadata": {
    "scrolled": false
   },
   "outputs": [
    {
     "data": {
      "image/png": "[encoded data removed]",
      "text/plain": [
       "<Figure size 432x288 with 1 Axes>"
      ]
     },
     "metadata": {
      "needs_background": "light"
     },
     "output_type": "display_data"
    }
   ],
   "source": [
    "plt.plot(epochs, history.history['loss'], label='Training loss')\n",
    "plt.plot(epochs, history.history['val_loss'], label='Validation loss')\n",
    "plt.xlabel('Epochs')\n",
    "plt.ylabel('Loss')\n",
    "plt.legend()\n",
    "plt.show()"
   ]
  },
  {
   "cell_type": "markdown",
   "metadata": {},
   "source": [
    "## tf.keras 모델의 저장과 복원"
   ]
  },
  {
   "cell_type": "code",
   "execution_count": 39,
   "metadata": {},
   "outputs": [],
   "source": [
    "model.save_weights('simple_weights.h5')"
   ]
  },
  {
   "cell_type": "code",
   "execution_count": 40,
   "metadata": {},
   "outputs": [],
   "source": [
    "model = tf.keras.Sequential()\n",
    "model.add(tf.keras.layers.Dense(units=1, input_dim=1))\n",
    "model.compile(optimizer='sgd', loss='mse')\n",
    "\n",
    "model.load_weights('simple_weights.h5')"
   ]
  },
  {
   "cell_type": "code",
   "execution_count": 41,
   "metadata": {},
   "outputs": [
    {
     "name": "stdout",
     "output_type": "stream",
     "text": [
      "50/50 [==============================] - 0s 670us/sample - loss: 4.6851\n"
     ]
    },
    {
     "data": {
      "text/plain": [
       "4.685149326324463"
      ]
     },
     "execution_count": 41,
     "metadata": {},
     "output_type": "execute_result"
    }
   ],
   "source": [
    "model.evaluate(x_test, y_test)"
   ]
  },
  {
   "cell_type": "code",
   "execution_count": 42,
   "metadata": {},
   "outputs": [],
   "source": [
    "model.save('simple_model.h5')"
   ]
  },
  {
   "cell_type": "code",
   "execution_count": 43,
   "metadata": {},
   "outputs": [
    {
     "name": "stdout",
     "output_type": "stream",
     "text": [
      "50/50 [==============================] - 0s 732us/sample - loss: 4.6851\n"
     ]
    },
    {
     "data": {
      "text/plain": [
       "4.685149326324463"
      ]
     },
     "execution_count": 43,
     "metadata": {},
     "output_type": "execute_result"
    }
   ],
   "source": [
    "model = tf.keras.models.load_model('simple_model.h5')\n",
    "model.evaluate(x_test, y_test)"
   ]
  },
  {
   "cell_type": "code",
   "execution_count": 44,
   "metadata": {},
   "outputs": [
    {
     "name": "stdout",
     "output_type": "stream",
     "text": [
      "Train on 120 samples, validate on 30 samples\n",
      "Epoch 1/50\n",
      "120/120 [==============================] - 0s 970us/sample - loss: 2.2057 - val_loss: 1.3431\n",
      "Epoch 2/50\n",
      "120/120 [==============================] - 0s 105us/sample - loss: 2.1808 - val_loss: 1.3300\n",
      "Epoch 3/50\n",
      "120/120 [==============================] - 0s 82us/sample - loss: 2.1560 - val_loss: 1.3178\n",
      "Epoch 4/50\n",
      "120/120 [==============================] - 0s 98us/sample - loss: 2.1320 - val_loss: 1.3052\n",
      "Epoch 5/50\n",
      "120/120 [==============================] - 0s 99us/sample - loss: 2.1081 - val_loss: 1.2933\n",
      "Epoch 6/50\n",
      "120/120 [==============================] - 0s 96us/sample - loss: 2.0845 - val_loss: 1.2813\n",
      "Epoch 7/50\n",
      "120/120 [==============================] - 0s 108us/sample - loss: 2.0613 - val_loss: 1.2696\n",
      "Epoch 8/50\n",
      "120/120 [==============================] - 0s 108us/sample - loss: 2.0383 - val_loss: 1.2583\n",
      "Epoch 9/50\n",
      "120/120 [==============================] - 0s 121us/sample - loss: 2.0167 - val_loss: 1.2474\n",
      "Epoch 10/50\n",
      "120/120 [==============================] - 0s 119us/sample - loss: 1.9950 - val_loss: 1.2363\n",
      "Epoch 11/50\n",
      "120/120 [==============================] - 0s 111us/sample - loss: 1.9732 - val_loss: 1.2254\n",
      "Epoch 12/50\n",
      "120/120 [==============================] - 0s 105us/sample - loss: 1.9519 - val_loss: 1.2149\n",
      "Epoch 13/50\n",
      "120/120 [==============================] - 0s 99us/sample - loss: 1.9312 - val_loss: 1.2046\n",
      "Epoch 14/50\n",
      "120/120 [==============================] - 0s 113us/sample - loss: 1.9109 - val_loss: 1.1944\n",
      "Epoch 15/50\n",
      "120/120 [==============================] - 0s 105us/sample - loss: 1.8908 - val_loss: 1.1846\n",
      "Epoch 16/50\n",
      "120/120 [==============================] - 0s 146us/sample - loss: 1.8712 - val_loss: 1.1748\n",
      "Epoch 17/50\n",
      "120/120 [==============================] - 0s 110us/sample - loss: 1.8516 - val_loss: 1.1655\n",
      "Epoch 18/50\n",
      "120/120 [==============================] - 0s 108us/sample - loss: 1.8332 - val_loss: 1.1564\n",
      "Epoch 19/50\n",
      "120/120 [==============================] - 0s 96us/sample - loss: 1.8146 - val_loss: 1.1471\n",
      "Epoch 20/50\n",
      "120/120 [==============================] - 0s 91us/sample - loss: 1.7956 - val_loss: 1.1382\n",
      "Epoch 21/50\n",
      "120/120 [==============================] - 0s 105us/sample - loss: 1.7778 - val_loss: 1.1296\n",
      "Epoch 22/50\n",
      "120/120 [==============================] - 0s 101us/sample - loss: 1.7604 - val_loss: 1.1212\n",
      "Epoch 23/50\n",
      "120/120 [==============================] - 0s 115us/sample - loss: 1.7433 - val_loss: 1.1131\n",
      "Epoch 24/50\n",
      "120/120 [==============================] - 0s 126us/sample - loss: 1.7267 - val_loss: 1.1050\n",
      "Epoch 25/50\n",
      "120/120 [==============================] - 0s 102us/sample - loss: 1.7100 - val_loss: 1.0971\n",
      "Epoch 26/50\n",
      "120/120 [==============================] - 0s 122us/sample - loss: 1.6940 - val_loss: 1.0892\n",
      "Epoch 27/50\n",
      "120/120 [==============================] - 0s 94us/sample - loss: 1.6780 - val_loss: 1.0816\n",
      "Epoch 28/50\n",
      "120/120 [==============================] - 0s 100us/sample - loss: 1.6624 - val_loss: 1.0744\n",
      "Epoch 29/50\n",
      "120/120 [==============================] - 0s 120us/sample - loss: 1.6473 - val_loss: 1.0672\n",
      "Epoch 30/50\n",
      "120/120 [==============================] - 0s 91us/sample - loss: 1.6323 - val_loss: 1.0600\n",
      "Epoch 31/50\n",
      "120/120 [==============================] - 0s 122us/sample - loss: 1.6173 - val_loss: 1.0530\n",
      "Epoch 32/50\n",
      "120/120 [==============================] - 0s 99us/sample - loss: 1.6024 - val_loss: 1.0459\n",
      "Epoch 33/50\n",
      "120/120 [==============================] - 0s 119us/sample - loss: 1.5876 - val_loss: 1.0392\n",
      "Epoch 34/50\n",
      "120/120 [==============================] - 0s 118us/sample - loss: 1.5734 - val_loss: 1.0327\n",
      "Epoch 35/50\n",
      "120/120 [==============================] - 0s 112us/sample - loss: 1.5598 - val_loss: 1.0264\n",
      "Epoch 36/50\n",
      "120/120 [==============================] - 0s 92us/sample - loss: 1.5462 - val_loss: 1.0201\n",
      "Epoch 37/50\n",
      "120/120 [==============================] - 0s 128us/sample - loss: 1.5327 - val_loss: 1.0140\n",
      "Epoch 38/50\n",
      "120/120 [==============================] - 0s 105us/sample - loss: 1.5197 - val_loss: 1.0079\n",
      "Epoch 39/50\n",
      "120/120 [==============================] - 0s 104us/sample - loss: 1.5066 - val_loss: 1.0022\n",
      "Epoch 40/50\n",
      "120/120 [==============================] - 0s 116us/sample - loss: 1.4943 - val_loss: 0.9965\n",
      "Epoch 41/50\n",
      "120/120 [==============================] - 0s 110us/sample - loss: 1.4823 - val_loss: 0.9910\n",
      "Epoch 42/50\n",
      "120/120 [==============================] - 0s 136us/sample - loss: 1.4700 - val_loss: 0.9856\n",
      "Epoch 43/50\n",
      "120/120 [==============================] - 0s 120us/sample - loss: 1.4585 - val_loss: 0.9803\n",
      "Epoch 44/50\n",
      "120/120 [==============================] - 0s 84us/sample - loss: 1.4468 - val_loss: 0.9750\n",
      "Epoch 45/50\n",
      "120/120 [==============================] - 0s 116us/sample - loss: 1.4348 - val_loss: 0.9700\n",
      "Epoch 46/50\n",
      "120/120 [==============================] - 0s 110us/sample - loss: 1.4235 - val_loss: 0.9650\n",
      "Epoch 47/50\n",
      "120/120 [==============================] - 0s 96us/sample - loss: 1.4126 - val_loss: 0.9601\n",
      "Epoch 48/50\n",
      "120/120 [==============================] - 0s 129us/sample - loss: 1.4018 - val_loss: 0.9552\n",
      "Epoch 49/50\n",
      "120/120 [==============================] - 0s 105us/sample - loss: 1.3909 - val_loss: 0.9506\n",
      "Epoch 50/50\n",
      "120/120 [==============================] - 0s 129us/sample - loss: 1.3802 - val_loss: 0.9461\n"
     ]
    }
   ],
   "source": [
    "model = tf.keras.Sequential()\n",
    "model.add(tf.keras.layers.Dense(units=1, input_dim=1))\n",
    "model.compile(optimizer='sgd', loss='mse')\n",
    "\n",
    "callback_list = [tf.keras.callbacks.ModelCheckpoint(filepath='my_model.h5', \n",
    "                                 monitor='val_loss', save_best_only=True),\n",
    "                 tf.keras.callbacks.EarlyStopping(patience=5)]\n",
    "\n",
    "history = model.fit(x_train, y_train, epochs=50, \n",
    "                    validation_split=0.2, callbacks=callback_list)"
   ]
  },
  {
   "cell_type": "code",
   "execution_count": 45,
   "metadata": {
    "scrolled": false
   },
   "outputs": [
    {
     "data": {
      "image/png": "[encoded data removed]",
      "text/plain": [
       "<Figure size 432x288 with 1 Axes>"
      ]
     },
     "metadata": {
      "needs_background": "light"
     },
     "output_type": "display_data"
    }
   ],
   "source": [
    "epochs = np.arange(1, len(history.history['loss'])+1)\n",
    "plt.plot(epochs, history.history['loss'], label='Training loss')\n",
    "plt.plot(epochs, history.history['val_loss'], label='Validation loss')\n",
    "plt.xlabel('Epochs')\n",
    "plt.ylabel('Loss')\n",
    "plt.legend()\n",
    "plt.show()"
   ]
  },
  {
   "cell_type": "markdown",
   "metadata": {},
   "source": [
    "저장된 모델 복원:"
   ]
  },
  {
   "cell_type": "code",
   "execution_count": 46,
   "metadata": {},
   "outputs": [
    {
     "name": "stdout",
     "output_type": "stream",
     "text": [
      "50/50 [==============================] - 0s 680us/sample - loss: 1.5334\n"
     ]
    },
    {
     "data": {
      "text/plain": [
       "1.53335862159729"
      ]
     },
     "execution_count": 46,
     "metadata": {},
     "output_type": "execute_result"
    }
   ],
   "source": [
    "model = tf.keras.models.load_model('simple_model.h5')\n",
    "model.load_weights('my_model.h5')\n",
    "model.evaluate(x_test, y_test)"
   ]
  },
  {
   "cell_type": "code",
   "execution_count": 47,
   "metadata": {},
   "outputs": [
    {
     "data": {
      "image/png": "[encoded data removed]",
      "text/plain": [
       "<Figure size 432x288 with 1 Axes>"
      ]
     },
     "metadata": {
      "needs_background": "light"
     },
     "output_type": "display_data"
    }
   ],
   "source": [
    "x_arr = np.arange(-2, 2, 0.1)\n",
    "y_arr = model.predict(x_arr)\n",
    "\n",
    "plt.figure()\n",
    "plt.plot(x_train, y_train, 'bo')\n",
    "plt.plot(x_test, y_test, 'bo', alpha=0.3)\n",
    "plt.plot(x_arr, y_arr, '-r', lw=3)\n",
    "plt.show()"
   ]
  },
  {
   "cell_type": "markdown",
   "metadata": {},
   "source": [
    "## 계산 그래프 시각화하기"
   ]
  },
  {
   "cell_type": "code",
   "execution_count": 48,
   "metadata": {},
   "outputs": [],
   "source": [
    "tf.keras.backend.clear_session()"
   ]
  },
  {
   "cell_type": "code",
   "execution_count": 49,
   "metadata": {},
   "outputs": [],
   "source": [
    "model = tf.keras.Sequential()\n",
    "model.add(tf.keras.layers.Dense(units=1, input_dim=1))"
   ]
  },
  {
   "cell_type": "code",
   "execution_count": 50,
   "metadata": {
    "scrolled": true
   },
   "outputs": [
    {
     "name": "stdout",
     "output_type": "stream",
     "text": [
      "Train on 105 samples, validate on 45 samples\n",
      "Epoch 1/50\n",
      "105/105 [==============================] - 0s 2ms/sample - loss: 6.2934 - val_loss: 4.1709\n",
      "Epoch 2/50\n",
      "105/105 [==============================] - 0s 105us/sample - loss: 6.1575 - val_loss: 4.1078\n",
      "Epoch 3/50\n",
      "105/105 [==============================] - 0s 67us/sample - loss: 6.0490 - val_loss: 4.0341\n",
      "Epoch 4/50\n",
      "105/105 [==============================] - 0s 97us/sample - loss: 5.9270 - val_loss: 3.9693\n",
      "Epoch 5/50\n",
      "105/105 [==============================] - 0s 119us/sample - loss: 5.8184 - val_loss: 3.9069\n",
      "Epoch 6/50\n",
      "105/105 [==============================] - 0s 95us/sample - loss: 5.7138 - val_loss: 3.8485\n",
      "Epoch 7/50\n",
      "105/105 [==============================] - 0s 83us/sample - loss: 5.6190 - val_loss: 3.7941\n",
      "Epoch 8/50\n",
      "105/105 [==============================] - 0s 95us/sample - loss: 5.5256 - val_loss: 3.7350\n",
      "Epoch 9/50\n",
      "105/105 [==============================] - 0s 83us/sample - loss: 5.4255 - val_loss: 3.6751\n",
      "Epoch 10/50\n",
      "105/105 [==============================] - 0s 78us/sample - loss: 5.3238 - val_loss: 3.6184\n",
      "Epoch 11/50\n",
      "105/105 [==============================] - 0s 77us/sample - loss: 5.2293 - val_loss: 3.5613\n",
      "Epoch 12/50\n",
      "105/105 [==============================] - 0s 83us/sample - loss: 5.1355 - val_loss: 3.5077\n",
      "Epoch 13/50\n",
      "105/105 [==============================] - 0s 87us/sample - loss: 5.0434 - val_loss: 3.4530\n",
      "Epoch 14/50\n",
      "105/105 [==============================] - 0s 76us/sample - loss: 4.9502 - val_loss: 3.3932\n",
      "Epoch 15/50\n",
      "105/105 [==============================] - 0s 124us/sample - loss: 4.8521 - val_loss: 3.3464\n",
      "Epoch 16/50\n",
      "105/105 [==============================] - 0s 74us/sample - loss: 4.7739 - val_loss: 3.2890\n",
      "Epoch 17/50\n",
      "105/105 [==============================] - 0s 95us/sample - loss: 4.6777 - val_loss: 3.2381\n",
      "Epoch 18/50\n",
      "105/105 [==============================] - 0s 100us/sample - loss: 4.5940 - val_loss: 3.1865\n",
      "Epoch 19/50\n",
      "105/105 [==============================] - 0s 84us/sample - loss: 4.5099 - val_loss: 3.1401\n",
      "Epoch 20/50\n",
      "105/105 [==============================] - 0s 100us/sample - loss: 4.4313 - val_loss: 3.0922\n",
      "Epoch 21/50\n",
      "105/105 [==============================] - 0s 84us/sample - loss: 4.3508 - val_loss: 3.0467\n",
      "Epoch 22/50\n",
      "105/105 [==============================] - 0s 96us/sample - loss: 4.2729 - val_loss: 2.9929\n",
      "Epoch 23/50\n",
      "105/105 [==============================] - 0s 110us/sample - loss: 4.1842 - val_loss: 2.9502\n",
      "Epoch 24/50\n",
      "105/105 [==============================] - 0s 205us/sample - loss: 4.1116 - val_loss: 2.9038\n",
      "Epoch 25/50\n",
      "105/105 [==============================] - 0s 101us/sample - loss: 4.0352 - val_loss: 2.8628\n",
      "Epoch 26/50\n",
      "105/105 [==============================] - 0s 116us/sample - loss: 3.9680 - val_loss: 2.8238\n",
      "Epoch 27/50\n",
      "105/105 [==============================] - 0s 87us/sample - loss: 3.9032 - val_loss: 2.7857\n",
      "Epoch 28/50\n",
      "105/105 [==============================] - 0s 81us/sample - loss: 3.8390 - val_loss: 2.7457\n",
      "Epoch 29/50\n",
      "105/105 [==============================] - 0s 110us/sample - loss: 3.7710 - val_loss: 2.7093\n",
      "Epoch 30/50\n",
      "105/105 [==============================] - 0s 74us/sample - loss: 3.7114 - val_loss: 2.6739\n",
      "Epoch 31/50\n",
      "105/105 [==============================] - 0s 108us/sample - loss: 3.6528 - val_loss: 2.6395\n",
      "Epoch 32/50\n",
      "105/105 [==============================] - 0s 85us/sample - loss: 3.5948 - val_loss: 2.6067\n",
      "Epoch 33/50\n",
      "105/105 [==============================] - 0s 99us/sample - loss: 3.5392 - val_loss: 2.5739\n",
      "Epoch 34/50\n",
      "105/105 [==============================] - 0s 100us/sample - loss: 3.4850 - val_loss: 2.5416\n",
      "Epoch 35/50\n",
      "105/105 [==============================] - 0s 96us/sample - loss: 3.4310 - val_loss: 2.5065\n",
      "Epoch 36/50\n",
      "105/105 [==============================] - 0s 84us/sample - loss: 3.3717 - val_loss: 2.4725\n",
      "Epoch 37/50\n",
      "105/105 [==============================] - 0s 98us/sample - loss: 3.3156 - val_loss: 2.4384\n",
      "Epoch 38/50\n",
      "105/105 [==============================] - 0s 105us/sample - loss: 3.2589 - val_loss: 2.4026\n",
      "Epoch 39/50\n",
      "105/105 [==============================] - 0s 106us/sample - loss: 3.2021 - val_loss: 2.3712\n",
      "Epoch 40/50\n",
      "105/105 [==============================] - 0s 96us/sample - loss: 3.1518 - val_loss: 2.3411\n",
      "Epoch 41/50\n",
      "105/105 [==============================] - 0s 88us/sample - loss: 3.1021 - val_loss: 2.3129\n",
      "Epoch 42/50\n",
      "105/105 [==============================] - 0s 85us/sample - loss: 3.0550 - val_loss: 2.2863\n",
      "Epoch 43/50\n",
      "105/105 [==============================] - 0s 92us/sample - loss: 3.0095 - val_loss: 2.2600\n",
      "Epoch 44/50\n",
      "105/105 [==============================] - 0s 86us/sample - loss: 2.9658 - val_loss: 2.2329\n",
      "Epoch 45/50\n",
      "105/105 [==============================] - 0s 142us/sample - loss: 2.9212 - val_loss: 2.2068\n",
      "Epoch 46/50\n",
      "105/105 [==============================] - 0s 107us/sample - loss: 2.8778 - val_loss: 2.1817\n",
      "Epoch 47/50\n",
      "105/105 [==============================] - 0s 129us/sample - loss: 2.8361 - val_loss: 2.1551\n",
      "Epoch 48/50\n",
      "105/105 [==============================] - 0s 123us/sample - loss: 2.7904 - val_loss: 2.1221\n",
      "Epoch 49/50\n",
      "105/105 [==============================] - 0s 125us/sample - loss: 2.7377 - val_loss: 2.0945\n",
      "Epoch 50/50\n",
      "105/105 [==============================] - 0s 83us/sample - loss: 2.6924 - val_loss: 2.0678\n"
     ]
    }
   ],
   "source": [
    "callback_list = [tf.keras.callbacks.TensorBoard(log_dir='logs')]\n",
    "model.compile(optimizer='sgd', loss='mse')\n",
    "history = model.fit(x_train, y_train, epochs=50, \n",
    "                    callbacks=callback_list, validation_split=0.3)"
   ]
  },
  {
   "cell_type": "markdown",
   "metadata": {},
   "source": [
    "코랩을 사용하거나 주피터 노트북을 로컬 컴퓨터에서 실행하는 경우엔 아래 두 개의 코드 셀의 주석을 삭제하고 실행하면 텐서보드를 노트북에 임베딩시킬 수 있습니다."
   ]
  },
  {
   "cell_type": "code",
   "execution_count": 51,
   "metadata": {},
   "outputs": [],
   "source": [
    "%load_ext tensorboard.notebook"
   ]
  },
  {
   "cell_type": "code",
   "execution_count": 52,
   "metadata": {},
   "outputs": [
    {
     "data": {
      "text/plain": [
       "Reusing TensorBoard on port 6006 (pid 29184), started 0:01:22 ago. (Use '!kill 29184' to kill it.)"
      ]
     },
     "metadata": {},
     "output_type": "display_data"
    },
    {
     "data": {
      "text/html": [
       "\n",
       "        <iframe\n",
       "            width=\"100%\"\n",
       "            height=\"600\"\n",
       "            src=\"http://localhost:6006\"\n",
       "            frameborder=\"0\"\n",
       "            allowfullscreen\n",
       "        ></iframe>\n",
       "        "
      ],
      "text/plain": [
       "<IPython.lib.display.IFrame at 0x7f67ec4a27b8>"
      ]
     },
     "metadata": {},
     "output_type": "display_data"
    }
   ],
   "source": [
    "%tensorboard --logdir logs --port 6006"
   ]
  },
  {
   "cell_type": "code",
   "execution_count": 53,
   "metadata": {},
   "outputs": [],
   "source": [
    "input = tf.keras.Input(shape=(784,))\n",
    "hidden = tf.keras.layers.Dense(100)(input)\n",
    "output = tf.keras.layers.Dense(10)(hidden)\n",
    "\n",
    "model = tf.keras.Model(input, output)"
   ]
  },
  {
   "cell_type": "code",
   "execution_count": 54,
   "metadata": {
    "scrolled": false
   },
   "outputs": [
    {
     "data": {
      "image/png": "[encoded data removed]",
      "text/plain": [
       "<IPython.core.display.Image object>"
      ]
     },
     "execution_count": 54,
     "metadata": {},
     "output_type": "execute_result"
    }
   ],
   "source": [
    "tf.keras.utils.plot_model(model, to_file='model_1.png')"
   ]
  },
  {
   "cell_type": "code",
   "execution_count": 55,
   "metadata": {},
   "outputs": [
    {
     "data": {
      "image/png": "[encoded data removed]",
      "text/plain": [
       "<IPython.core.display.Image object>"
      ]
     },
     "execution_count": 55,
     "metadata": {},
     "output_type": "execute_result"
    }
   ],
   "source": [
    "tf.keras.utils.plot_model(model, show_shapes=True, to_file='model_2.png')"
   ]
  },
  {
   "cell_type": "code",
   "execution_count": null,
   "metadata": {},
   "outputs": [],
   "source": []
  }
 ],
 "metadata": {
  "kernelspec": {
   "display_name": "Python 3",
   "language": "python",
   "name": "python3"
  },
  "language_info": {
   "codemirror_mode": {
    "name": "ipython",
    "version": 3
   },
   "file_extension": ".py",
   "mimetype": "text/x-python",
   "name": "python",
   "nbconvert_exporter": "python",
   "pygments_lexer": "ipython3",
   "version": "3.7.3"
  }
 },
 "nbformat": 4,
 "nbformat_minor": 2
}
